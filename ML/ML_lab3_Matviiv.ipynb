{
  "nbformat": 4,
  "nbformat_minor": 0,
  "metadata": {
    "kernelspec": {
      "name": "python3",
      "display_name": "Python 3"
    },
    "language_info": {
      "codemirror_mode": {
        "name": "ipython",
        "version": 3
      },
      "file_extension": ".py",
      "mimetype": "text/x-python",
      "name": "python",
      "nbconvert_exporter": "python",
      "pygments_lexer": "ipython3",
      "version": "3.7.6"
    },
    "colab": {
      "name": "lab3 (1).ipynb",
      "provenance": [],
      "collapsed_sections": []
    },
    "accelerator": "GPU",
    "widgets": {
      "application/vnd.jupyter.widget-state+json": {
        "e89d062d78d141789143a72fef02c34b": {
          "model_module": "@jupyter-widgets/controls",
          "model_name": "HBoxModel",
          "state": {
            "_view_name": "HBoxView",
            "_dom_classes": [],
            "_model_name": "HBoxModel",
            "_view_module": "@jupyter-widgets/controls",
            "_model_module_version": "1.5.0",
            "_view_count": null,
            "_view_module_version": "1.5.0",
            "box_style": "",
            "layout": "IPY_MODEL_841517cdd70a411ea26969cc4f384ac7",
            "_model_module": "@jupyter-widgets/controls",
            "children": [
              "IPY_MODEL_0af6815514d74b6abc9d21c7c4be5e12",
              "IPY_MODEL_eed16b0ed56f4184addb543b0fad4000"
            ]
          }
        },
        "841517cdd70a411ea26969cc4f384ac7": {
          "model_module": "@jupyter-widgets/base",
          "model_name": "LayoutModel",
          "state": {
            "_view_name": "LayoutView",
            "grid_template_rows": null,
            "right": null,
            "justify_content": null,
            "_view_module": "@jupyter-widgets/base",
            "overflow": null,
            "_model_module_version": "1.2.0",
            "_view_count": null,
            "flex_flow": null,
            "width": null,
            "min_width": null,
            "border": null,
            "align_items": null,
            "bottom": null,
            "_model_module": "@jupyter-widgets/base",
            "top": null,
            "grid_column": null,
            "overflow_y": null,
            "overflow_x": null,
            "grid_auto_flow": null,
            "grid_area": null,
            "grid_template_columns": null,
            "flex": null,
            "_model_name": "LayoutModel",
            "justify_items": null,
            "grid_row": null,
            "max_height": null,
            "align_content": null,
            "visibility": null,
            "align_self": null,
            "height": null,
            "min_height": null,
            "padding": null,
            "grid_auto_rows": null,
            "grid_gap": null,
            "max_width": null,
            "order": null,
            "_view_module_version": "1.2.0",
            "grid_template_areas": null,
            "object_position": null,
            "object_fit": null,
            "grid_auto_columns": null,
            "margin": null,
            "display": null,
            "left": null
          }
        },
        "0af6815514d74b6abc9d21c7c4be5e12": {
          "model_module": "@jupyter-widgets/controls",
          "model_name": "IntProgressModel",
          "state": {
            "_view_name": "ProgressView",
            "style": "IPY_MODEL_905befca6c3b4175a380f3f25e9e759a",
            "_dom_classes": [],
            "description": "",
            "_model_name": "IntProgressModel",
            "bar_style": "success",
            "max": 1,
            "_view_module": "@jupyter-widgets/controls",
            "_model_module_version": "1.5.0",
            "value": 1,
            "_view_count": null,
            "_view_module_version": "1.5.0",
            "orientation": "horizontal",
            "min": 0,
            "description_tooltip": null,
            "_model_module": "@jupyter-widgets/controls",
            "layout": "IPY_MODEL_610a3c79e3d44862bce58a76862ec2b9"
          }
        },
        "eed16b0ed56f4184addb543b0fad4000": {
          "model_module": "@jupyter-widgets/controls",
          "model_name": "HTMLModel",
          "state": {
            "_view_name": "HTMLView",
            "style": "IPY_MODEL_8a352850d6af4d46a45849fcd52b9525",
            "_dom_classes": [],
            "description": "",
            "_model_name": "HTMLModel",
            "placeholder": "​",
            "_view_module": "@jupyter-widgets/controls",
            "_model_module_version": "1.5.0",
            "value": " 9920512/? [00:07&lt;00:00, 1402084.58it/s]",
            "_view_count": null,
            "_view_module_version": "1.5.0",
            "description_tooltip": null,
            "_model_module": "@jupyter-widgets/controls",
            "layout": "IPY_MODEL_12286ef0edb1494eb3796fd333e01af4"
          }
        },
        "905befca6c3b4175a380f3f25e9e759a": {
          "model_module": "@jupyter-widgets/controls",
          "model_name": "ProgressStyleModel",
          "state": {
            "_view_name": "StyleView",
            "_model_name": "ProgressStyleModel",
            "description_width": "initial",
            "_view_module": "@jupyter-widgets/base",
            "_model_module_version": "1.5.0",
            "_view_count": null,
            "_view_module_version": "1.2.0",
            "bar_color": null,
            "_model_module": "@jupyter-widgets/controls"
          }
        },
        "610a3c79e3d44862bce58a76862ec2b9": {
          "model_module": "@jupyter-widgets/base",
          "model_name": "LayoutModel",
          "state": {
            "_view_name": "LayoutView",
            "grid_template_rows": null,
            "right": null,
            "justify_content": null,
            "_view_module": "@jupyter-widgets/base",
            "overflow": null,
            "_model_module_version": "1.2.0",
            "_view_count": null,
            "flex_flow": null,
            "width": null,
            "min_width": null,
            "border": null,
            "align_items": null,
            "bottom": null,
            "_model_module": "@jupyter-widgets/base",
            "top": null,
            "grid_column": null,
            "overflow_y": null,
            "overflow_x": null,
            "grid_auto_flow": null,
            "grid_area": null,
            "grid_template_columns": null,
            "flex": null,
            "_model_name": "LayoutModel",
            "justify_items": null,
            "grid_row": null,
            "max_height": null,
            "align_content": null,
            "visibility": null,
            "align_self": null,
            "height": null,
            "min_height": null,
            "padding": null,
            "grid_auto_rows": null,
            "grid_gap": null,
            "max_width": null,
            "order": null,
            "_view_module_version": "1.2.0",
            "grid_template_areas": null,
            "object_position": null,
            "object_fit": null,
            "grid_auto_columns": null,
            "margin": null,
            "display": null,
            "left": null
          }
        },
        "8a352850d6af4d46a45849fcd52b9525": {
          "model_module": "@jupyter-widgets/controls",
          "model_name": "DescriptionStyleModel",
          "state": {
            "_view_name": "StyleView",
            "_model_name": "DescriptionStyleModel",
            "description_width": "",
            "_view_module": "@jupyter-widgets/base",
            "_model_module_version": "1.5.0",
            "_view_count": null,
            "_view_module_version": "1.2.0",
            "_model_module": "@jupyter-widgets/controls"
          }
        },
        "12286ef0edb1494eb3796fd333e01af4": {
          "model_module": "@jupyter-widgets/base",
          "model_name": "LayoutModel",
          "state": {
            "_view_name": "LayoutView",
            "grid_template_rows": null,
            "right": null,
            "justify_content": null,
            "_view_module": "@jupyter-widgets/base",
            "overflow": null,
            "_model_module_version": "1.2.0",
            "_view_count": null,
            "flex_flow": null,
            "width": null,
            "min_width": null,
            "border": null,
            "align_items": null,
            "bottom": null,
            "_model_module": "@jupyter-widgets/base",
            "top": null,
            "grid_column": null,
            "overflow_y": null,
            "overflow_x": null,
            "grid_auto_flow": null,
            "grid_area": null,
            "grid_template_columns": null,
            "flex": null,
            "_model_name": "LayoutModel",
            "justify_items": null,
            "grid_row": null,
            "max_height": null,
            "align_content": null,
            "visibility": null,
            "align_self": null,
            "height": null,
            "min_height": null,
            "padding": null,
            "grid_auto_rows": null,
            "grid_gap": null,
            "max_width": null,
            "order": null,
            "_view_module_version": "1.2.0",
            "grid_template_areas": null,
            "object_position": null,
            "object_fit": null,
            "grid_auto_columns": null,
            "margin": null,
            "display": null,
            "left": null
          }
        },
        "80dedf5a32074cc096813e635f07cfef": {
          "model_module": "@jupyter-widgets/controls",
          "model_name": "HBoxModel",
          "state": {
            "_view_name": "HBoxView",
            "_dom_classes": [],
            "_model_name": "HBoxModel",
            "_view_module": "@jupyter-widgets/controls",
            "_model_module_version": "1.5.0",
            "_view_count": null,
            "_view_module_version": "1.5.0",
            "box_style": "",
            "layout": "IPY_MODEL_0070b082b1a741d682a68b8ca6cfccef",
            "_model_module": "@jupyter-widgets/controls",
            "children": [
              "IPY_MODEL_17d7626a30904dadbf228f9349329132",
              "IPY_MODEL_20a7fa452ed44332a044b8fb1fbaa1a8"
            ]
          }
        },
        "0070b082b1a741d682a68b8ca6cfccef": {
          "model_module": "@jupyter-widgets/base",
          "model_name": "LayoutModel",
          "state": {
            "_view_name": "LayoutView",
            "grid_template_rows": null,
            "right": null,
            "justify_content": null,
            "_view_module": "@jupyter-widgets/base",
            "overflow": null,
            "_model_module_version": "1.2.0",
            "_view_count": null,
            "flex_flow": null,
            "width": null,
            "min_width": null,
            "border": null,
            "align_items": null,
            "bottom": null,
            "_model_module": "@jupyter-widgets/base",
            "top": null,
            "grid_column": null,
            "overflow_y": null,
            "overflow_x": null,
            "grid_auto_flow": null,
            "grid_area": null,
            "grid_template_columns": null,
            "flex": null,
            "_model_name": "LayoutModel",
            "justify_items": null,
            "grid_row": null,
            "max_height": null,
            "align_content": null,
            "visibility": null,
            "align_self": null,
            "height": null,
            "min_height": null,
            "padding": null,
            "grid_auto_rows": null,
            "grid_gap": null,
            "max_width": null,
            "order": null,
            "_view_module_version": "1.2.0",
            "grid_template_areas": null,
            "object_position": null,
            "object_fit": null,
            "grid_auto_columns": null,
            "margin": null,
            "display": null,
            "left": null
          }
        },
        "17d7626a30904dadbf228f9349329132": {
          "model_module": "@jupyter-widgets/controls",
          "model_name": "IntProgressModel",
          "state": {
            "_view_name": "ProgressView",
            "style": "IPY_MODEL_c15bc6f826644fe99f61a5ce62cdd0f6",
            "_dom_classes": [],
            "description": "",
            "_model_name": "IntProgressModel",
            "bar_style": "success",
            "max": 1,
            "_view_module": "@jupyter-widgets/controls",
            "_model_module_version": "1.5.0",
            "value": 1,
            "_view_count": null,
            "_view_module_version": "1.5.0",
            "orientation": "horizontal",
            "min": 0,
            "description_tooltip": null,
            "_model_module": "@jupyter-widgets/controls",
            "layout": "IPY_MODEL_5830f872993f4bbb888d41feb1b5c3e1"
          }
        },
        "20a7fa452ed44332a044b8fb1fbaa1a8": {
          "model_module": "@jupyter-widgets/controls",
          "model_name": "HTMLModel",
          "state": {
            "_view_name": "HTMLView",
            "style": "IPY_MODEL_f96beb052a1d4f24b9257a7c9adb97e4",
            "_dom_classes": [],
            "description": "",
            "_model_name": "HTMLModel",
            "placeholder": "​",
            "_view_module": "@jupyter-widgets/controls",
            "_model_module_version": "1.5.0",
            "value": " 32768/? [00:03&lt;00:00, 10414.81it/s]",
            "_view_count": null,
            "_view_module_version": "1.5.0",
            "description_tooltip": null,
            "_model_module": "@jupyter-widgets/controls",
            "layout": "IPY_MODEL_6eff9fcb7a114987bfc287a8efc3eca2"
          }
        },
        "c15bc6f826644fe99f61a5ce62cdd0f6": {
          "model_module": "@jupyter-widgets/controls",
          "model_name": "ProgressStyleModel",
          "state": {
            "_view_name": "StyleView",
            "_model_name": "ProgressStyleModel",
            "description_width": "initial",
            "_view_module": "@jupyter-widgets/base",
            "_model_module_version": "1.5.0",
            "_view_count": null,
            "_view_module_version": "1.2.0",
            "bar_color": null,
            "_model_module": "@jupyter-widgets/controls"
          }
        },
        "5830f872993f4bbb888d41feb1b5c3e1": {
          "model_module": "@jupyter-widgets/base",
          "model_name": "LayoutModel",
          "state": {
            "_view_name": "LayoutView",
            "grid_template_rows": null,
            "right": null,
            "justify_content": null,
            "_view_module": "@jupyter-widgets/base",
            "overflow": null,
            "_model_module_version": "1.2.0",
            "_view_count": null,
            "flex_flow": null,
            "width": null,
            "min_width": null,
            "border": null,
            "align_items": null,
            "bottom": null,
            "_model_module": "@jupyter-widgets/base",
            "top": null,
            "grid_column": null,
            "overflow_y": null,
            "overflow_x": null,
            "grid_auto_flow": null,
            "grid_area": null,
            "grid_template_columns": null,
            "flex": null,
            "_model_name": "LayoutModel",
            "justify_items": null,
            "grid_row": null,
            "max_height": null,
            "align_content": null,
            "visibility": null,
            "align_self": null,
            "height": null,
            "min_height": null,
            "padding": null,
            "grid_auto_rows": null,
            "grid_gap": null,
            "max_width": null,
            "order": null,
            "_view_module_version": "1.2.0",
            "grid_template_areas": null,
            "object_position": null,
            "object_fit": null,
            "grid_auto_columns": null,
            "margin": null,
            "display": null,
            "left": null
          }
        },
        "f96beb052a1d4f24b9257a7c9adb97e4": {
          "model_module": "@jupyter-widgets/controls",
          "model_name": "DescriptionStyleModel",
          "state": {
            "_view_name": "StyleView",
            "_model_name": "DescriptionStyleModel",
            "description_width": "",
            "_view_module": "@jupyter-widgets/base",
            "_model_module_version": "1.5.0",
            "_view_count": null,
            "_view_module_version": "1.2.0",
            "_model_module": "@jupyter-widgets/controls"
          }
        },
        "6eff9fcb7a114987bfc287a8efc3eca2": {
          "model_module": "@jupyter-widgets/base",
          "model_name": "LayoutModel",
          "state": {
            "_view_name": "LayoutView",
            "grid_template_rows": null,
            "right": null,
            "justify_content": null,
            "_view_module": "@jupyter-widgets/base",
            "overflow": null,
            "_model_module_version": "1.2.0",
            "_view_count": null,
            "flex_flow": null,
            "width": null,
            "min_width": null,
            "border": null,
            "align_items": null,
            "bottom": null,
            "_model_module": "@jupyter-widgets/base",
            "top": null,
            "grid_column": null,
            "overflow_y": null,
            "overflow_x": null,
            "grid_auto_flow": null,
            "grid_area": null,
            "grid_template_columns": null,
            "flex": null,
            "_model_name": "LayoutModel",
            "justify_items": null,
            "grid_row": null,
            "max_height": null,
            "align_content": null,
            "visibility": null,
            "align_self": null,
            "height": null,
            "min_height": null,
            "padding": null,
            "grid_auto_rows": null,
            "grid_gap": null,
            "max_width": null,
            "order": null,
            "_view_module_version": "1.2.0",
            "grid_template_areas": null,
            "object_position": null,
            "object_fit": null,
            "grid_auto_columns": null,
            "margin": null,
            "display": null,
            "left": null
          }
        },
        "a4c12e72f1bc4e52bc1882941afa8dbf": {
          "model_module": "@jupyter-widgets/controls",
          "model_name": "HBoxModel",
          "state": {
            "_view_name": "HBoxView",
            "_dom_classes": [],
            "_model_name": "HBoxModel",
            "_view_module": "@jupyter-widgets/controls",
            "_model_module_version": "1.5.0",
            "_view_count": null,
            "_view_module_version": "1.5.0",
            "box_style": "",
            "layout": "IPY_MODEL_d8f84d5af9654c9f9d1d0a5f1e1d4f28",
            "_model_module": "@jupyter-widgets/controls",
            "children": [
              "IPY_MODEL_cfc9645a27b94008bf05dcc937ade65b",
              "IPY_MODEL_a753be8757754dc8af9ce3018e35a753"
            ]
          }
        },
        "d8f84d5af9654c9f9d1d0a5f1e1d4f28": {
          "model_module": "@jupyter-widgets/base",
          "model_name": "LayoutModel",
          "state": {
            "_view_name": "LayoutView",
            "grid_template_rows": null,
            "right": null,
            "justify_content": null,
            "_view_module": "@jupyter-widgets/base",
            "overflow": null,
            "_model_module_version": "1.2.0",
            "_view_count": null,
            "flex_flow": null,
            "width": null,
            "min_width": null,
            "border": null,
            "align_items": null,
            "bottom": null,
            "_model_module": "@jupyter-widgets/base",
            "top": null,
            "grid_column": null,
            "overflow_y": null,
            "overflow_x": null,
            "grid_auto_flow": null,
            "grid_area": null,
            "grid_template_columns": null,
            "flex": null,
            "_model_name": "LayoutModel",
            "justify_items": null,
            "grid_row": null,
            "max_height": null,
            "align_content": null,
            "visibility": null,
            "align_self": null,
            "height": null,
            "min_height": null,
            "padding": null,
            "grid_auto_rows": null,
            "grid_gap": null,
            "max_width": null,
            "order": null,
            "_view_module_version": "1.2.0",
            "grid_template_areas": null,
            "object_position": null,
            "object_fit": null,
            "grid_auto_columns": null,
            "margin": null,
            "display": null,
            "left": null
          }
        },
        "cfc9645a27b94008bf05dcc937ade65b": {
          "model_module": "@jupyter-widgets/controls",
          "model_name": "IntProgressModel",
          "state": {
            "_view_name": "ProgressView",
            "style": "IPY_MODEL_84cc01616fe24a858a733a83b2d03633",
            "_dom_classes": [],
            "description": "",
            "_model_name": "IntProgressModel",
            "bar_style": "success",
            "max": 1,
            "_view_module": "@jupyter-widgets/controls",
            "_model_module_version": "1.5.0",
            "value": 1,
            "_view_count": null,
            "_view_module_version": "1.5.0",
            "orientation": "horizontal",
            "min": 0,
            "description_tooltip": null,
            "_model_module": "@jupyter-widgets/controls",
            "layout": "IPY_MODEL_67d36c0752b242839e635ca9b5e3e2c7"
          }
        },
        "a753be8757754dc8af9ce3018e35a753": {
          "model_module": "@jupyter-widgets/controls",
          "model_name": "HTMLModel",
          "state": {
            "_view_name": "HTMLView",
            "style": "IPY_MODEL_3382d08ef7224c76878a8debd3eba57e",
            "_dom_classes": [],
            "description": "",
            "_model_name": "HTMLModel",
            "placeholder": "​",
            "_view_module": "@jupyter-widgets/controls",
            "_model_module_version": "1.5.0",
            "value": " 1654784/? [00:02&lt;00:00, 673245.72it/s]",
            "_view_count": null,
            "_view_module_version": "1.5.0",
            "description_tooltip": null,
            "_model_module": "@jupyter-widgets/controls",
            "layout": "IPY_MODEL_f06e93350fb3412c86f5e8452bfafe33"
          }
        },
        "84cc01616fe24a858a733a83b2d03633": {
          "model_module": "@jupyter-widgets/controls",
          "model_name": "ProgressStyleModel",
          "state": {
            "_view_name": "StyleView",
            "_model_name": "ProgressStyleModel",
            "description_width": "initial",
            "_view_module": "@jupyter-widgets/base",
            "_model_module_version": "1.5.0",
            "_view_count": null,
            "_view_module_version": "1.2.0",
            "bar_color": null,
            "_model_module": "@jupyter-widgets/controls"
          }
        },
        "67d36c0752b242839e635ca9b5e3e2c7": {
          "model_module": "@jupyter-widgets/base",
          "model_name": "LayoutModel",
          "state": {
            "_view_name": "LayoutView",
            "grid_template_rows": null,
            "right": null,
            "justify_content": null,
            "_view_module": "@jupyter-widgets/base",
            "overflow": null,
            "_model_module_version": "1.2.0",
            "_view_count": null,
            "flex_flow": null,
            "width": null,
            "min_width": null,
            "border": null,
            "align_items": null,
            "bottom": null,
            "_model_module": "@jupyter-widgets/base",
            "top": null,
            "grid_column": null,
            "overflow_y": null,
            "overflow_x": null,
            "grid_auto_flow": null,
            "grid_area": null,
            "grid_template_columns": null,
            "flex": null,
            "_model_name": "LayoutModel",
            "justify_items": null,
            "grid_row": null,
            "max_height": null,
            "align_content": null,
            "visibility": null,
            "align_self": null,
            "height": null,
            "min_height": null,
            "padding": null,
            "grid_auto_rows": null,
            "grid_gap": null,
            "max_width": null,
            "order": null,
            "_view_module_version": "1.2.0",
            "grid_template_areas": null,
            "object_position": null,
            "object_fit": null,
            "grid_auto_columns": null,
            "margin": null,
            "display": null,
            "left": null
          }
        },
        "3382d08ef7224c76878a8debd3eba57e": {
          "model_module": "@jupyter-widgets/controls",
          "model_name": "DescriptionStyleModel",
          "state": {
            "_view_name": "StyleView",
            "_model_name": "DescriptionStyleModel",
            "description_width": "",
            "_view_module": "@jupyter-widgets/base",
            "_model_module_version": "1.5.0",
            "_view_count": null,
            "_view_module_version": "1.2.0",
            "_model_module": "@jupyter-widgets/controls"
          }
        },
        "f06e93350fb3412c86f5e8452bfafe33": {
          "model_module": "@jupyter-widgets/base",
          "model_name": "LayoutModel",
          "state": {
            "_view_name": "LayoutView",
            "grid_template_rows": null,
            "right": null,
            "justify_content": null,
            "_view_module": "@jupyter-widgets/base",
            "overflow": null,
            "_model_module_version": "1.2.0",
            "_view_count": null,
            "flex_flow": null,
            "width": null,
            "min_width": null,
            "border": null,
            "align_items": null,
            "bottom": null,
            "_model_module": "@jupyter-widgets/base",
            "top": null,
            "grid_column": null,
            "overflow_y": null,
            "overflow_x": null,
            "grid_auto_flow": null,
            "grid_area": null,
            "grid_template_columns": null,
            "flex": null,
            "_model_name": "LayoutModel",
            "justify_items": null,
            "grid_row": null,
            "max_height": null,
            "align_content": null,
            "visibility": null,
            "align_self": null,
            "height": null,
            "min_height": null,
            "padding": null,
            "grid_auto_rows": null,
            "grid_gap": null,
            "max_width": null,
            "order": null,
            "_view_module_version": "1.2.0",
            "grid_template_areas": null,
            "object_position": null,
            "object_fit": null,
            "grid_auto_columns": null,
            "margin": null,
            "display": null,
            "left": null
          }
        },
        "abc13a0658b94c5a88124e99371e8338": {
          "model_module": "@jupyter-widgets/controls",
          "model_name": "HBoxModel",
          "state": {
            "_view_name": "HBoxView",
            "_dom_classes": [],
            "_model_name": "HBoxModel",
            "_view_module": "@jupyter-widgets/controls",
            "_model_module_version": "1.5.0",
            "_view_count": null,
            "_view_module_version": "1.5.0",
            "box_style": "",
            "layout": "IPY_MODEL_23718cb4085e4086bae42e5484fbd7c2",
            "_model_module": "@jupyter-widgets/controls",
            "children": [
              "IPY_MODEL_e0d9c11372fe4393a45bb90ce8718cac",
              "IPY_MODEL_e9f576167d224d1ea8f35b749fd0160a"
            ]
          }
        },
        "23718cb4085e4086bae42e5484fbd7c2": {
          "model_module": "@jupyter-widgets/base",
          "model_name": "LayoutModel",
          "state": {
            "_view_name": "LayoutView",
            "grid_template_rows": null,
            "right": null,
            "justify_content": null,
            "_view_module": "@jupyter-widgets/base",
            "overflow": null,
            "_model_module_version": "1.2.0",
            "_view_count": null,
            "flex_flow": null,
            "width": null,
            "min_width": null,
            "border": null,
            "align_items": null,
            "bottom": null,
            "_model_module": "@jupyter-widgets/base",
            "top": null,
            "grid_column": null,
            "overflow_y": null,
            "overflow_x": null,
            "grid_auto_flow": null,
            "grid_area": null,
            "grid_template_columns": null,
            "flex": null,
            "_model_name": "LayoutModel",
            "justify_items": null,
            "grid_row": null,
            "max_height": null,
            "align_content": null,
            "visibility": null,
            "align_self": null,
            "height": null,
            "min_height": null,
            "padding": null,
            "grid_auto_rows": null,
            "grid_gap": null,
            "max_width": null,
            "order": null,
            "_view_module_version": "1.2.0",
            "grid_template_areas": null,
            "object_position": null,
            "object_fit": null,
            "grid_auto_columns": null,
            "margin": null,
            "display": null,
            "left": null
          }
        },
        "e0d9c11372fe4393a45bb90ce8718cac": {
          "model_module": "@jupyter-widgets/controls",
          "model_name": "IntProgressModel",
          "state": {
            "_view_name": "ProgressView",
            "style": "IPY_MODEL_c4afb48fa23047be82e43519d7628a06",
            "_dom_classes": [],
            "description": "",
            "_model_name": "IntProgressModel",
            "bar_style": "success",
            "max": 1,
            "_view_module": "@jupyter-widgets/controls",
            "_model_module_version": "1.5.0",
            "value": 1,
            "_view_count": null,
            "_view_module_version": "1.5.0",
            "orientation": "horizontal",
            "min": 0,
            "description_tooltip": null,
            "_model_module": "@jupyter-widgets/controls",
            "layout": "IPY_MODEL_74efa67aaabf4160a4d402aa12336fa4"
          }
        },
        "e9f576167d224d1ea8f35b749fd0160a": {
          "model_module": "@jupyter-widgets/controls",
          "model_name": "HTMLModel",
          "state": {
            "_view_name": "HTMLView",
            "style": "IPY_MODEL_7ef11d09b3054b47a1f652724f74abb0",
            "_dom_classes": [],
            "description": "",
            "_model_name": "HTMLModel",
            "placeholder": "​",
            "_view_module": "@jupyter-widgets/controls",
            "_model_module_version": "1.5.0",
            "value": " 8192/? [00:00&lt;00:00, 13357.04it/s]",
            "_view_count": null,
            "_view_module_version": "1.5.0",
            "description_tooltip": null,
            "_model_module": "@jupyter-widgets/controls",
            "layout": "IPY_MODEL_a847cdb455114184bc6774b91d8a26e4"
          }
        },
        "c4afb48fa23047be82e43519d7628a06": {
          "model_module": "@jupyter-widgets/controls",
          "model_name": "ProgressStyleModel",
          "state": {
            "_view_name": "StyleView",
            "_model_name": "ProgressStyleModel",
            "description_width": "initial",
            "_view_module": "@jupyter-widgets/base",
            "_model_module_version": "1.5.0",
            "_view_count": null,
            "_view_module_version": "1.2.0",
            "bar_color": null,
            "_model_module": "@jupyter-widgets/controls"
          }
        },
        "74efa67aaabf4160a4d402aa12336fa4": {
          "model_module": "@jupyter-widgets/base",
          "model_name": "LayoutModel",
          "state": {
            "_view_name": "LayoutView",
            "grid_template_rows": null,
            "right": null,
            "justify_content": null,
            "_view_module": "@jupyter-widgets/base",
            "overflow": null,
            "_model_module_version": "1.2.0",
            "_view_count": null,
            "flex_flow": null,
            "width": null,
            "min_width": null,
            "border": null,
            "align_items": null,
            "bottom": null,
            "_model_module": "@jupyter-widgets/base",
            "top": null,
            "grid_column": null,
            "overflow_y": null,
            "overflow_x": null,
            "grid_auto_flow": null,
            "grid_area": null,
            "grid_template_columns": null,
            "flex": null,
            "_model_name": "LayoutModel",
            "justify_items": null,
            "grid_row": null,
            "max_height": null,
            "align_content": null,
            "visibility": null,
            "align_self": null,
            "height": null,
            "min_height": null,
            "padding": null,
            "grid_auto_rows": null,
            "grid_gap": null,
            "max_width": null,
            "order": null,
            "_view_module_version": "1.2.0",
            "grid_template_areas": null,
            "object_position": null,
            "object_fit": null,
            "grid_auto_columns": null,
            "margin": null,
            "display": null,
            "left": null
          }
        },
        "7ef11d09b3054b47a1f652724f74abb0": {
          "model_module": "@jupyter-widgets/controls",
          "model_name": "DescriptionStyleModel",
          "state": {
            "_view_name": "StyleView",
            "_model_name": "DescriptionStyleModel",
            "description_width": "",
            "_view_module": "@jupyter-widgets/base",
            "_model_module_version": "1.5.0",
            "_view_count": null,
            "_view_module_version": "1.2.0",
            "_model_module": "@jupyter-widgets/controls"
          }
        },
        "a847cdb455114184bc6774b91d8a26e4": {
          "model_module": "@jupyter-widgets/base",
          "model_name": "LayoutModel",
          "state": {
            "_view_name": "LayoutView",
            "grid_template_rows": null,
            "right": null,
            "justify_content": null,
            "_view_module": "@jupyter-widgets/base",
            "overflow": null,
            "_model_module_version": "1.2.0",
            "_view_count": null,
            "flex_flow": null,
            "width": null,
            "min_width": null,
            "border": null,
            "align_items": null,
            "bottom": null,
            "_model_module": "@jupyter-widgets/base",
            "top": null,
            "grid_column": null,
            "overflow_y": null,
            "overflow_x": null,
            "grid_auto_flow": null,
            "grid_area": null,
            "grid_template_columns": null,
            "flex": null,
            "_model_name": "LayoutModel",
            "justify_items": null,
            "grid_row": null,
            "max_height": null,
            "align_content": null,
            "visibility": null,
            "align_self": null,
            "height": null,
            "min_height": null,
            "padding": null,
            "grid_auto_rows": null,
            "grid_gap": null,
            "max_width": null,
            "order": null,
            "_view_module_version": "1.2.0",
            "grid_template_areas": null,
            "object_position": null,
            "object_fit": null,
            "grid_auto_columns": null,
            "margin": null,
            "display": null,
            "left": null
          }
        }
      }
    }
  },
  "cells": [
    {
      "cell_type": "code",
      "metadata": {
        "id": "lkKTAHDj4ohz",
        "colab_type": "code",
        "colab": {}
      },
      "source": [
        "import torch\n",
        "import torch.nn as nn\n",
        "import torch.optim as optim\n",
        "import torch.nn.functional as F\n",
        "import matplotlib.pyplot as plt\n",
        "import torchvision\n",
        "import numpy as np\n",
        "from IPython.display import clear_output\n",
        "from collections import defaultdict"
      ],
      "execution_count": 0,
      "outputs": []
    },
    {
      "cell_type": "code",
      "metadata": {
        "id": "OXu0e0MA4oh9",
        "colab_type": "code",
        "colab": {}
      },
      "source": [
        "class LeNet(nn.Module): \n",
        "    def __init__(self):\n",
        "        super(LeNet, self).__init__()\n",
        "        \n",
        "        self.conv1 = nn.Conv2d(1, 6, 3)\n",
        "        self.activation1 = nn.ELU(alpha=1.0, inplace=False)\n",
        "    \n",
        "        self.conv2 = nn.Conv2d(6, 16, 3)\n",
        "        self.activation2 = nn.ELU(alpha=1.0, inplace=False)\n",
        "\n",
        "        self.fc1 = nn.Linear(5*5*16, 120)\n",
        "        self.activation3 = nn.ELU(alpha=1.0, inplace=False)\n",
        "        self.fc2 = nn.Linear(120, 84)\n",
        "        self.activation4 = nn.ELU(alpha=1.0, inplace=False)\n",
        "        self.fc3 = nn.Linear(84, 10)\n",
        "\n",
        "        self.sm = nn.Softmax(1)\n",
        "        \n",
        "    def forward(self, x):\n",
        "        x = F.avg_pool2d(self.activation1(self.conv1(x)), (2, 2))\n",
        "        x = F.avg_pool2d(self.activation2(self.conv2(x)), 2)\n",
        "        x = x.view(-1, self.num_flat_features(x))\n",
        "        x = self.activation3(self.fc1(x))\n",
        "        x = self.activation4(self.fc2(x))\n",
        "        x = self.fc3(x)\n",
        "        x = self.sm(x)\n",
        "\n",
        "        return x\n",
        "    \n",
        "    def num_flat_features(self, x): # function which return numbers of features of convolution layer\n",
        "        size = x.size()[1:]\n",
        "        num_features = 1\n",
        "        for s in size:\n",
        "            num_features *= s\n",
        "        return num_features"
      ],
      "execution_count": 0,
      "outputs": []
    },
    {
      "cell_type": "code",
      "metadata": {
        "id": "evVIBQzr5hY7",
        "colab_type": "code",
        "colab": {}
      },
      "source": [
        "cuda = torch.device('cuda')"
      ],
      "execution_count": 0,
      "outputs": []
    },
    {
      "cell_type": "code",
      "metadata": {
        "id": "3nWaYXLR4oiE",
        "colab_type": "code",
        "outputId": "83743c69-c4c9-4dd4-b560-e2278a79dcb4",
        "colab": {
          "base_uri": "https://localhost:8080/",
          "height": 214
        }
      },
      "source": [
        "net = LeNet().to(cuda) # creating model\n",
        "print(net)"
      ],
      "execution_count": 0,
      "outputs": [
        {
          "output_type": "stream",
          "text": [
            "LeNet(\n",
            "  (conv1): Conv2d(1, 6, kernel_size=(3, 3), stride=(1, 1))\n",
            "  (activation1): ELU(alpha=1.0)\n",
            "  (conv2): Conv2d(6, 16, kernel_size=(3, 3), stride=(1, 1))\n",
            "  (activation2): ELU(alpha=1.0)\n",
            "  (fc1): Linear(in_features=400, out_features=120, bias=True)\n",
            "  (activation3): ELU(alpha=1.0)\n",
            "  (fc2): Linear(in_features=120, out_features=84, bias=True)\n",
            "  (activation4): ELU(alpha=1.0)\n",
            "  (fc3): Linear(in_features=84, out_features=10, bias=True)\n",
            "  (sm): Softmax(dim=1)\n",
            ")\n"
          ],
          "name": "stdout"
        }
      ]
    },
    {
      "cell_type": "code",
      "metadata": {
        "id": "Wk1r6XoN4oiM",
        "colab_type": "code",
        "colab": {}
      },
      "source": [
        "# net.load_state_dict(torch.load('weights.pt')) # If you have weights you can load them here"
      ],
      "execution_count": 0,
      "outputs": []
    },
    {
      "cell_type": "code",
      "metadata": {
        "id": "3VBT_u7G4oiQ",
        "colab_type": "code",
        "colab": {}
      },
      "source": [
        "criterion = nn.CrossEntropyLoss() # creating loss function\n",
        "optimizer = optim.SGD(net.parameters(), lr=0.08, momentum=0.7) # creating optimizer \n",
        "epochs = 1000"
      ],
      "execution_count": 0,
      "outputs": []
    },
    {
      "cell_type": "code",
      "metadata": {
        "id": "jpKqFmUV4oiU",
        "colab_type": "code",
        "outputId": "f2b1a767-3760-417c-ce50-bd17de6887cf",
        "colab": {
          "base_uri": "https://localhost:8080/",
          "height": 378,
          "referenced_widgets": [
            "e89d062d78d141789143a72fef02c34b",
            "841517cdd70a411ea26969cc4f384ac7",
            "0af6815514d74b6abc9d21c7c4be5e12",
            "eed16b0ed56f4184addb543b0fad4000",
            "905befca6c3b4175a380f3f25e9e759a",
            "610a3c79e3d44862bce58a76862ec2b9",
            "8a352850d6af4d46a45849fcd52b9525",
            "12286ef0edb1494eb3796fd333e01af4",
            "80dedf5a32074cc096813e635f07cfef",
            "0070b082b1a741d682a68b8ca6cfccef",
            "17d7626a30904dadbf228f9349329132",
            "20a7fa452ed44332a044b8fb1fbaa1a8",
            "c15bc6f826644fe99f61a5ce62cdd0f6",
            "5830f872993f4bbb888d41feb1b5c3e1",
            "f96beb052a1d4f24b9257a7c9adb97e4",
            "6eff9fcb7a114987bfc287a8efc3eca2",
            "a4c12e72f1bc4e52bc1882941afa8dbf",
            "d8f84d5af9654c9f9d1d0a5f1e1d4f28",
            "cfc9645a27b94008bf05dcc937ade65b",
            "a753be8757754dc8af9ce3018e35a753",
            "84cc01616fe24a858a733a83b2d03633",
            "67d36c0752b242839e635ca9b5e3e2c7",
            "3382d08ef7224c76878a8debd3eba57e",
            "f06e93350fb3412c86f5e8452bfafe33",
            "abc13a0658b94c5a88124e99371e8338",
            "23718cb4085e4086bae42e5484fbd7c2",
            "e0d9c11372fe4393a45bb90ce8718cac",
            "e9f576167d224d1ea8f35b749fd0160a",
            "c4afb48fa23047be82e43519d7628a06",
            "74efa67aaabf4160a4d402aa12336fa4",
            "7ef11d09b3054b47a1f652724f74abb0",
            "a847cdb455114184bc6774b91d8a26e4"
          ]
        }
      },
      "source": [
        "train_loader = torch.utils.data.DataLoader( # downloading and uploading data\n",
        "  torchvision.datasets.MNIST('./data/mnist', train=True, download=True,\n",
        "                             transform=torchvision.transforms.Compose([\n",
        "                               torchvision.transforms.Resize((28, 28), interpolation=2), # resizing oringal images as they have shape (32, 32) when model has input (28, 28)\n",
        "                               torchvision.transforms.ToTensor(), # transforming image from numpy array to pytorch tensor\n",
        "                               torchvision.transforms.Normalize( # normalizing images\n",
        "                                 (0.1307,), (0.3081,))\n",
        "                             ])),\n",
        "  batch_size=32, shuffle=False)"
      ],
      "execution_count": 0,
      "outputs": [
        {
          "output_type": "stream",
          "text": [
            "Downloading http://yann.lecun.com/exdb/mnist/train-images-idx3-ubyte.gz to ./data/mnist/MNIST/raw/train-images-idx3-ubyte.gz\n"
          ],
          "name": "stdout"
        },
        {
          "output_type": "display_data",
          "data": {
            "application/vnd.jupyter.widget-view+json": {
              "model_id": "e89d062d78d141789143a72fef02c34b",
              "version_minor": 0,
              "version_major": 2
            },
            "text/plain": [
              "HBox(children=(IntProgress(value=1, bar_style='info', max=1), HTML(value='')))"
            ]
          },
          "metadata": {
            "tags": []
          }
        },
        {
          "output_type": "stream",
          "text": [
            "Extracting ./data/mnist/MNIST/raw/train-images-idx3-ubyte.gz to ./data/mnist/MNIST/raw\n",
            "Downloading http://yann.lecun.com/exdb/mnist/train-labels-idx1-ubyte.gz to ./data/mnist/MNIST/raw/train-labels-idx1-ubyte.gz\n"
          ],
          "name": "stdout"
        },
        {
          "output_type": "display_data",
          "data": {
            "application/vnd.jupyter.widget-view+json": {
              "model_id": "80dedf5a32074cc096813e635f07cfef",
              "version_minor": 0,
              "version_major": 2
            },
            "text/plain": [
              "HBox(children=(IntProgress(value=1, bar_style='info', max=1), HTML(value='')))"
            ]
          },
          "metadata": {
            "tags": []
          }
        },
        {
          "output_type": "stream",
          "text": [
            "Extracting ./data/mnist/MNIST/raw/train-labels-idx1-ubyte.gz to ./data/mnist/MNIST/raw\n",
            "Downloading http://yann.lecun.com/exdb/mnist/t10k-images-idx3-ubyte.gz to ./data/mnist/MNIST/raw/t10k-images-idx3-ubyte.gz\n"
          ],
          "name": "stdout"
        },
        {
          "output_type": "display_data",
          "data": {
            "application/vnd.jupyter.widget-view+json": {
              "model_id": "a4c12e72f1bc4e52bc1882941afa8dbf",
              "version_minor": 0,
              "version_major": 2
            },
            "text/plain": [
              "HBox(children=(IntProgress(value=1, bar_style='info', max=1), HTML(value='')))"
            ]
          },
          "metadata": {
            "tags": []
          }
        },
        {
          "output_type": "stream",
          "text": [
            "Extracting ./data/mnist/MNIST/raw/t10k-images-idx3-ubyte.gz to ./data/mnist/MNIST/raw\n",
            "Downloading http://yann.lecun.com/exdb/mnist/t10k-labels-idx1-ubyte.gz to ./data/mnist/MNIST/raw/t10k-labels-idx1-ubyte.gz\n"
          ],
          "name": "stdout"
        },
        {
          "output_type": "display_data",
          "data": {
            "application/vnd.jupyter.widget-view+json": {
              "model_id": "abc13a0658b94c5a88124e99371e8338",
              "version_minor": 0,
              "version_major": 2
            },
            "text/plain": [
              "HBox(children=(IntProgress(value=1, bar_style='info', max=1), HTML(value='')))"
            ]
          },
          "metadata": {
            "tags": []
          }
        },
        {
          "output_type": "stream",
          "text": [
            "Extracting ./data/mnist/MNIST/raw/t10k-labels-idx1-ubyte.gz to ./data/mnist/MNIST/raw\n",
            "Processing...\n",
            "Done!\n",
            "\n",
            "\n",
            "\n"
          ],
          "name": "stdout"
        }
      ]
    },
    {
      "cell_type": "code",
      "metadata": {
        "id": "cRbKrupB4oiX",
        "colab_type": "code",
        "colab": {}
      },
      "source": [
        "test_loader = torch.utils.data.DataLoader(\n",
        "  torchvision.datasets.MNIST('./data/mnist', train=False,\n",
        "                             transform=torchvision.transforms.Compose([\n",
        "                               torchvision.transforms.Resize((28, 28), interpolation=2),\n",
        "                               torchvision.transforms.ToTensor(),\n",
        "                               torchvision.transforms.Normalize(\n",
        "                                 (0.1307,), (0.3081,))\n",
        "                             ])),\n",
        "  batch_size=10000, shuffle=False)"
      ],
      "execution_count": 0,
      "outputs": []
    },
    {
      "cell_type": "code",
      "metadata": {
        "id": "LFu4H3zc4oia",
        "colab_type": "code",
        "outputId": "a5167f02-3b3e-4769-cabc-50c30fc7b382",
        "colab": {
          "base_uri": "https://localhost:8080/",
          "height": 32
        }
      },
      "source": [
        "test_inputs, test_labels = iter(test_loader).next() # get all test data\n",
        "test_inputs = test_inputs.to(cuda)\n",
        "test_labels = test_labels.to(cuda)"
      ],
      "execution_count": 0,
      "outputs": [
        {
          "output_type": "stream",
          "text": [
            "\n"
          ],
          "name": "stdout"
        }
      ]
    },
    {
      "cell_type": "code",
      "metadata": {
        "id": "5mDngpOHyUVE",
        "colab_type": "code",
        "outputId": "a05d39b5-18ef-40a3-bd2f-56ae415f9aca",
        "colab": {
          "base_uri": "https://localhost:8080/",
          "height": 1000
        }
      },
      "source": [
        "%%time\n",
        "finished = False # variable which represents whether the model achieved defined accuracy \n",
        "\n",
        "# lists which store training history\n",
        "train_loss_history = [] \n",
        "test_loss_history = []\n",
        "train_accuracy_history = []\n",
        "test_accuracy_history = []\n",
        "\n",
        "for epoch in range(epochs):\n",
        "    running_train_loss = 0.0\n",
        "    running_train_accuracy = 0.0\n",
        "\n",
        "    running_test_loss = 0.0\n",
        "    running_test_accuracy = 0.0\n",
        "\n",
        "    if not finished:\n",
        "        for i, data in enumerate(train_loader, 0):\n",
        "            # clear_output()\n",
        "            # print('i: {}'.format(i))\n",
        "\n",
        "            inputs, labels = data # get the inputs; data is a list of [inputs, labels]\n",
        "            inputs = inputs.to(cuda)\n",
        "            labels = labels.to(cuda)\n",
        "\n",
        "            optimizer.zero_grad() # zero the parameter gradients\n",
        "\n",
        "            # forward + backward + optimize\n",
        "            outputs = net(inputs)\n",
        "            # print(outputs.shape)\n",
        "            test_outputs = net(test_inputs)\n",
        "\n",
        "            loss = criterion(outputs, labels)\n",
        "            loss.backward()\n",
        "            optimizer.step()\n",
        "\n",
        "            test_loss = criterion(test_outputs, test_labels) # calculating test loss\n",
        "            \n",
        "            # calculating accuracy\n",
        "            train_accuracy = (outputs.argmax(1) == labels).sum().item() / outputs.shape[0]\n",
        "            test_accuracy = (test_outputs.argmax(1) == test_labels).sum().item() / test_outputs.shape[0]\n",
        "\n",
        "            running_train_accuracy += train_accuracy\n",
        "            running_train_loss += loss.item()\n",
        "\n",
        "            running_test_accuracy += test_accuracy\n",
        "            running_test_loss += test_loss.item()\n",
        "\n",
        "\n",
        "            # print statistics\n",
        "            if i % 25 == 24:    # print every 25 mini-batches\n",
        "                print('[%d, %5d] \\nTrain: \\n\\tloss: %.3f, accuracy: %.3f\\nTest: \\n\\tloss: %.3f, accuracy: %.3f' %\n",
        "                    (epoch + 1, i + 1, running_train_loss / 25, running_train_accuracy / 25,\n",
        "                                      running_test_loss / 25, running_test_accuracy / 25))\n",
        "\n",
        "                if running_test_accuracy / 25 > 0.95 and running_train_accuracy / 25 > 0.95: # check whether we achieved established accuracy\n",
        "                    finished = True\n",
        "                    break\n",
        "\n",
        "                # adding stats to logs\n",
        "                train_loss_history.append(running_train_loss)\n",
        "                train_accuracy_history.append(running_train_accuracy)\n",
        "                test_loss_history.append(running_test_loss)\n",
        "                test_accuracy_history.append(running_test_accuracy)\n",
        "\n",
        "                running_train_loss = 0.0\n",
        "                running_train_accuracy = 0.0\n",
        "\n",
        "                running_test_loss = 0.0\n",
        "                running_test_accuracy = 0.0\n",
        "\n",
        "print('Finished Training')"
      ],
      "execution_count": 0,
      "outputs": [
        {
          "output_type": "stream",
          "text": [
            "[1,    25] \n",
            "Train: \n",
            "\tloss: 2.302, accuracy: 0.119\n",
            "Test: \n",
            "\tloss: 2.302, accuracy: 0.111\n",
            "[1,    50] \n",
            "Train: \n",
            "\tloss: 2.300, accuracy: 0.174\n",
            "Test: \n",
            "\tloss: 2.300, accuracy: 0.170\n",
            "[1,    75] \n",
            "Train: \n",
            "\tloss: 2.297, accuracy: 0.228\n",
            "Test: \n",
            "\tloss: 2.297, accuracy: 0.232\n",
            "[1,   100] \n",
            "Train: \n",
            "\tloss: 2.287, accuracy: 0.425\n",
            "Test: \n",
            "\tloss: 2.287, accuracy: 0.401\n",
            "[1,   125] \n",
            "Train: \n",
            "\tloss: 2.202, accuracy: 0.419\n",
            "Test: \n",
            "\tloss: 2.197, accuracy: 0.427\n",
            "[1,   150] \n",
            "Train: \n",
            "\tloss: 1.876, accuracy: 0.609\n",
            "Test: \n",
            "\tloss: 1.893, accuracy: 0.605\n",
            "[1,   175] \n",
            "Train: \n",
            "\tloss: 1.807, accuracy: 0.659\n",
            "Test: \n",
            "\tloss: 1.809, accuracy: 0.662\n",
            "[1,   200] \n",
            "Train: \n",
            "\tloss: 1.744, accuracy: 0.728\n",
            "Test: \n",
            "\tloss: 1.778, accuracy: 0.690\n",
            "[1,   225] \n",
            "Train: \n",
            "\tloss: 1.759, accuracy: 0.710\n",
            "Test: \n",
            "\tloss: 1.743, accuracy: 0.723\n",
            "[1,   250] \n",
            "Train: \n",
            "\tloss: 1.735, accuracy: 0.729\n",
            "Test: \n",
            "\tloss: 1.730, accuracy: 0.734\n",
            "[1,   275] \n",
            "Train: \n",
            "\tloss: 1.732, accuracy: 0.734\n",
            "Test: \n",
            "\tloss: 1.718, accuracy: 0.746\n",
            "[1,   300] \n",
            "Train: \n",
            "\tloss: 1.683, accuracy: 0.782\n",
            "Test: \n",
            "\tloss: 1.716, accuracy: 0.747\n",
            "[1,   325] \n",
            "Train: \n",
            "\tloss: 1.680, accuracy: 0.775\n",
            "Test: \n",
            "\tloss: 1.706, accuracy: 0.757\n",
            "[1,   350] \n",
            "Train: \n",
            "\tloss: 1.660, accuracy: 0.807\n",
            "Test: \n",
            "\tloss: 1.677, accuracy: 0.788\n",
            "[1,   375] \n",
            "Train: \n",
            "\tloss: 1.662, accuracy: 0.802\n",
            "Test: \n",
            "\tloss: 1.674, accuracy: 0.791\n",
            "[1,   400] \n",
            "Train: \n",
            "\tloss: 1.678, accuracy: 0.785\n",
            "Test: \n",
            "\tloss: 1.667, accuracy: 0.796\n",
            "[1,   425] \n",
            "Train: \n",
            "\tloss: 1.679, accuracy: 0.782\n",
            "Test: \n",
            "\tloss: 1.659, accuracy: 0.804\n",
            "[1,   450] \n",
            "Train: \n",
            "\tloss: 1.698, accuracy: 0.766\n",
            "Test: \n",
            "\tloss: 1.668, accuracy: 0.795\n",
            "[1,   475] \n",
            "Train: \n",
            "\tloss: 1.695, accuracy: 0.760\n",
            "Test: \n",
            "\tloss: 1.669, accuracy: 0.793\n",
            "[1,   500] \n",
            "Train: \n",
            "\tloss: 1.656, accuracy: 0.810\n",
            "Test: \n",
            "\tloss: 1.656, accuracy: 0.806\n",
            "[1,   525] \n",
            "Train: \n",
            "\tloss: 1.685, accuracy: 0.775\n",
            "Test: \n",
            "\tloss: 1.656, accuracy: 0.806\n",
            "[1,   550] \n",
            "Train: \n",
            "\tloss: 1.668, accuracy: 0.794\n",
            "Test: \n",
            "\tloss: 1.650, accuracy: 0.812\n",
            "[1,   575] \n",
            "Train: \n",
            "\tloss: 1.629, accuracy: 0.836\n",
            "Test: \n",
            "\tloss: 1.638, accuracy: 0.823\n",
            "[1,   600] \n",
            "Train: \n",
            "\tloss: 1.636, accuracy: 0.826\n",
            "Test: \n",
            "\tloss: 1.634, accuracy: 0.828\n",
            "[1,   625] \n",
            "Train: \n",
            "\tloss: 1.616, accuracy: 0.845\n",
            "Test: \n",
            "\tloss: 1.633, accuracy: 0.828\n",
            "[1,   650] \n",
            "Train: \n",
            "\tloss: 1.631, accuracy: 0.830\n",
            "Test: \n",
            "\tloss: 1.633, accuracy: 0.828\n",
            "[1,   675] \n",
            "Train: \n",
            "\tloss: 1.576, accuracy: 0.890\n",
            "Test: \n",
            "\tloss: 1.595, accuracy: 0.870\n",
            "[1,   700] \n",
            "Train: \n",
            "\tloss: 1.577, accuracy: 0.890\n",
            "Test: \n",
            "\tloss: 1.594, accuracy: 0.869\n",
            "[1,   725] \n",
            "Train: \n",
            "\tloss: 1.601, accuracy: 0.861\n",
            "Test: \n",
            "\tloss: 1.591, accuracy: 0.872\n",
            "[1,   750] \n",
            "Train: \n",
            "\tloss: 1.573, accuracy: 0.891\n",
            "Test: \n",
            "\tloss: 1.567, accuracy: 0.897\n",
            "[1,   775] \n",
            "Train: \n",
            "\tloss: 1.605, accuracy: 0.854\n",
            "Test: \n",
            "\tloss: 1.565, accuracy: 0.899\n",
            "[1,   800] \n",
            "Train: \n",
            "\tloss: 1.572, accuracy: 0.892\n",
            "Test: \n",
            "\tloss: 1.566, accuracy: 0.899\n",
            "[1,   825] \n",
            "Train: \n",
            "\tloss: 1.551, accuracy: 0.914\n",
            "Test: \n",
            "\tloss: 1.558, accuracy: 0.906\n",
            "[1,   850] \n",
            "Train: \n",
            "\tloss: 1.573, accuracy: 0.891\n",
            "Test: \n",
            "\tloss: 1.553, accuracy: 0.911\n",
            "[1,   875] \n",
            "Train: \n",
            "\tloss: 1.552, accuracy: 0.912\n",
            "Test: \n",
            "\tloss: 1.554, accuracy: 0.910\n",
            "[1,   900] \n",
            "Train: \n",
            "\tloss: 1.547, accuracy: 0.921\n",
            "Test: \n",
            "\tloss: 1.539, accuracy: 0.924\n",
            "[1,   925] \n",
            "Train: \n",
            "\tloss: 1.547, accuracy: 0.917\n",
            "Test: \n",
            "\tloss: 1.538, accuracy: 0.925\n",
            "[1,   950] \n",
            "Train: \n",
            "\tloss: 1.552, accuracy: 0.914\n",
            "Test: \n",
            "\tloss: 1.541, accuracy: 0.923\n",
            "[1,   975] \n",
            "Train: \n",
            "\tloss: 1.548, accuracy: 0.912\n",
            "Test: \n",
            "\tloss: 1.535, accuracy: 0.928\n",
            "[1,  1000] \n",
            "Train: \n",
            "\tloss: 1.550, accuracy: 0.912\n",
            "Test: \n",
            "\tloss: 1.542, accuracy: 0.922\n",
            "[1,  1025] \n",
            "Train: \n",
            "\tloss: 1.554, accuracy: 0.910\n",
            "Test: \n",
            "\tloss: 1.540, accuracy: 0.923\n",
            "[1,  1050] \n",
            "Train: \n",
            "\tloss: 1.521, accuracy: 0.941\n",
            "Test: \n",
            "\tloss: 1.527, accuracy: 0.936\n",
            "[1,  1075] \n",
            "Train: \n",
            "\tloss: 1.503, accuracy: 0.959\n",
            "Test: \n",
            "\tloss: 1.522, accuracy: 0.941\n",
            "[1,  1100] \n",
            "Train: \n",
            "\tloss: 1.543, accuracy: 0.925\n",
            "Test: \n",
            "\tloss: 1.532, accuracy: 0.931\n",
            "[1,  1125] \n",
            "Train: \n",
            "\tloss: 1.517, accuracy: 0.948\n",
            "Test: \n",
            "\tloss: 1.526, accuracy: 0.937\n",
            "[1,  1150] \n",
            "Train: \n",
            "\tloss: 1.530, accuracy: 0.931\n",
            "Test: \n",
            "\tloss: 1.538, accuracy: 0.925\n",
            "[1,  1175] \n",
            "Train: \n",
            "\tloss: 1.552, accuracy: 0.911\n",
            "Test: \n",
            "\tloss: 1.539, accuracy: 0.923\n",
            "[1,  1200] \n",
            "Train: \n",
            "\tloss: 1.530, accuracy: 0.935\n",
            "Test: \n",
            "\tloss: 1.533, accuracy: 0.929\n",
            "[1,  1225] \n",
            "Train: \n",
            "\tloss: 1.534, accuracy: 0.926\n",
            "Test: \n",
            "\tloss: 1.541, accuracy: 0.921\n",
            "[1,  1250] \n",
            "Train: \n",
            "\tloss: 1.545, accuracy: 0.911\n",
            "Test: \n",
            "\tloss: 1.525, accuracy: 0.937\n",
            "[1,  1275] \n",
            "Train: \n",
            "\tloss: 1.521, accuracy: 0.941\n",
            "Test: \n",
            "\tloss: 1.524, accuracy: 0.938\n",
            "[1,  1300] \n",
            "Train: \n",
            "\tloss: 1.531, accuracy: 0.935\n",
            "Test: \n",
            "\tloss: 1.526, accuracy: 0.937\n",
            "[1,  1325] \n",
            "Train: \n",
            "\tloss: 1.526, accuracy: 0.936\n",
            "Test: \n",
            "\tloss: 1.530, accuracy: 0.932\n",
            "[1,  1350] \n",
            "Train: \n",
            "\tloss: 1.557, accuracy: 0.906\n",
            "Test: \n",
            "\tloss: 1.526, accuracy: 0.936\n",
            "[1,  1375] \n",
            "Train: \n",
            "\tloss: 1.504, accuracy: 0.960\n",
            "Test: \n",
            "\tloss: 1.523, accuracy: 0.939\n",
            "[1,  1400] \n",
            "Train: \n",
            "\tloss: 1.521, accuracy: 0.941\n",
            "Test: \n",
            "\tloss: 1.519, accuracy: 0.942\n",
            "[1,  1425] \n",
            "Train: \n",
            "\tloss: 1.545, accuracy: 0.915\n",
            "Test: \n",
            "\tloss: 1.522, accuracy: 0.941\n",
            "[1,  1450] \n",
            "Train: \n",
            "\tloss: 1.550, accuracy: 0.909\n",
            "Test: \n",
            "\tloss: 1.517, accuracy: 0.945\n",
            "[1,  1475] \n",
            "Train: \n",
            "\tloss: 1.518, accuracy: 0.945\n",
            "Test: \n",
            "\tloss: 1.517, accuracy: 0.944\n",
            "[1,  1500] \n",
            "Train: \n",
            "\tloss: 1.536, accuracy: 0.929\n",
            "Test: \n",
            "\tloss: 1.521, accuracy: 0.941\n",
            "[1,  1525] \n",
            "Train: \n",
            "\tloss: 1.517, accuracy: 0.944\n",
            "Test: \n",
            "\tloss: 1.520, accuracy: 0.943\n",
            "[1,  1550] \n",
            "Train: \n",
            "\tloss: 1.552, accuracy: 0.911\n",
            "Test: \n",
            "\tloss: 1.514, accuracy: 0.948\n",
            "[1,  1575] \n",
            "Train: \n",
            "\tloss: 1.531, accuracy: 0.932\n",
            "Test: \n",
            "\tloss: 1.515, accuracy: 0.947\n",
            "[1,  1600] \n",
            "Train: \n",
            "\tloss: 1.524, accuracy: 0.938\n",
            "Test: \n",
            "\tloss: 1.522, accuracy: 0.941\n",
            "[1,  1625] \n",
            "Train: \n",
            "\tloss: 1.514, accuracy: 0.948\n",
            "Test: \n",
            "\tloss: 1.519, accuracy: 0.942\n",
            "[1,  1650] \n",
            "Train: \n",
            "\tloss: 1.524, accuracy: 0.939\n",
            "Test: \n",
            "\tloss: 1.531, accuracy: 0.931\n",
            "[1,  1675] \n",
            "Train: \n",
            "\tloss: 1.535, accuracy: 0.925\n",
            "Test: \n",
            "\tloss: 1.514, accuracy: 0.948\n",
            "[1,  1700] \n",
            "Train: \n",
            "\tloss: 1.509, accuracy: 0.953\n",
            "Test: \n",
            "\tloss: 1.509, accuracy: 0.953\n",
            "Finished Training\n",
            "CPU times: user 46.8 s, sys: 21.1 s, total: 1min 7s\n",
            "Wall time: 1min 8s\n"
          ],
          "name": "stdout"
        }
      ]
    },
    {
      "cell_type": "code",
      "metadata": {
        "id": "WFAtYHhKv5Bv",
        "colab_type": "code",
        "outputId": "ead2f224-4597-4892-e113-e28f82a790b1",
        "colab": {
          "base_uri": "https://localhost:8080/",
          "height": 197
        }
      },
      "source": [
        "outputs[:5]"
      ],
      "execution_count": 0,
      "outputs": [
        {
          "output_type": "execute_result",
          "data": {
            "text/plain": [
              "tensor([[9.9999e-01, 2.3415e-19, 3.1543e-16, 1.7316e-16, 5.2556e-22, 9.1525e-06,\n",
              "         4.2478e-07, 3.5361e-14, 1.4676e-15, 1.2249e-18],\n",
              "        [8.8947e-18, 2.6484e-20, 1.0846e-20, 4.7163e-17, 6.8483e-13, 5.2046e-14,\n",
              "         6.2743e-23, 3.7701e-10, 5.7223e-11, 1.0000e+00],\n",
              "        [1.3606e-10, 7.8210e-13, 3.5022e-10, 8.9383e-17, 1.1914e-09, 6.8660e-11,\n",
              "         1.0000e+00, 2.6890e-16, 2.8743e-09, 1.4396e-16],\n",
              "        [1.0000e+00, 4.6028e-14, 7.1525e-09, 1.1638e-08, 6.9189e-16, 9.8114e-09,\n",
              "         8.4396e-08, 4.0347e-11, 5.1916e-09, 4.4079e-13],\n",
              "        [8.3149e-18, 1.4234e-11, 3.5094e-10, 6.5563e-12, 9.7165e-19, 1.7772e-16,\n",
              "         2.8041e-19, 1.0000e+00, 9.7329e-15, 5.0028e-16]], device='cuda:0',\n",
              "       grad_fn=<SliceBackward>)"
            ]
          },
          "metadata": {
            "tags": []
          },
          "execution_count": 21
        }
      ]
    },
    {
      "cell_type": "code",
      "metadata": {
        "id": "ElPLLxgwv-x_",
        "colab_type": "code",
        "outputId": "49742693-a273-4f31-f3ac-cadb67f421b9",
        "colab": {
          "base_uri": "https://localhost:8080/",
          "height": 32
        }
      },
      "source": [
        "outputs.shape"
      ],
      "execution_count": 0,
      "outputs": [
        {
          "output_type": "execute_result",
          "data": {
            "text/plain": [
              "torch.Size([32, 10])"
            ]
          },
          "metadata": {
            "tags": []
          },
          "execution_count": 22
        }
      ]
    },
    {
      "cell_type": "code",
      "metadata": {
        "id": "vq4_2L6LwwC1",
        "colab_type": "code",
        "outputId": "5379a32e-fa18-4430-813c-4242b36cb7f7",
        "colab": {
          "base_uri": "https://localhost:8080/",
          "height": 32
        }
      },
      "source": [
        "(labels == outputs.argmax(1)).sum() / "
      ],
      "execution_count": 0,
      "outputs": [
        {
          "output_type": "execute_result",
          "data": {
            "text/plain": [
              "tensor(30, device='cuda:0')"
            ]
          },
          "metadata": {
            "tags": []
          },
          "execution_count": 29
        }
      ]
    },
    {
      "cell_type": "code",
      "metadata": {
        "id": "kYsRAjRawbf_",
        "colab_type": "code",
        "outputId": "efd006c5-de93-4428-8880-48fa2ece3e8d",
        "colab": {
          "base_uri": "https://localhost:8080/",
          "height": 49
        }
      },
      "source": [
        "outputs.argmax(1)"
      ],
      "execution_count": 0,
      "outputs": [
        {
          "output_type": "execute_result",
          "data": {
            "text/plain": [
              "tensor([0, 9, 6, 0, 7, 1, 4, 2, 4, 8, 3, 4, 1, 5, 9, 6, 1, 7, 9, 8, 1, 9, 6, 0,\n",
              "        0, 1, 8, 2, 7, 3, 3, 4], device='cuda:0')"
            ]
          },
          "metadata": {
            "tags": []
          },
          "execution_count": 23
        }
      ]
    },
    {
      "cell_type": "code",
      "metadata": {
        "id": "pYWEYI3ywUxr",
        "colab_type": "code",
        "colab": {}
      },
      "source": [
        "(outputs.argmax(1) == labels).sum().item() / outputs.shape[0]"
      ],
      "execution_count": 0,
      "outputs": []
    },
    {
      "cell_type": "code",
      "metadata": {
        "id": "3BPM0uqB4oie",
        "colab_type": "code",
        "outputId": "488545e6-85c2-412f-ce3f-a4820ac12741",
        "colab": {
          "base_uri": "https://localhost:8080/",
          "height": 389
        }
      },
      "source": [
        "f, ax = plt.subplots(1, 2, figsize=(21, 6))\n",
        "\n",
        "# n = len(train_loss_history)\n",
        "ax[0].plot(train_loss_history, label='Train loss')\n",
        "ax[0].plot(test_loss_history, label='Test loss')\n",
        "ax[0].set_title('Loss')\n",
        "ax[0].legend()\n",
        "\n",
        "ax[1].plot(train_accuracy_history, label='Train accuracy')\n",
        "ax[1].plot(test_accuracy_history, label='Test accuracy')\n",
        "ax[1].set_title('Accuracy')\n",
        "ax[1].legend()\n",
        "\n",
        "f.savefig('res.png')"
      ],
      "execution_count": 0,
      "outputs": [
        {
          "output_type": "display_data",
          "data": {
            "image/png": "[encoded data removed]",
            "text/plain": [
              "<Figure size 1512x432 with 2 Axes>"
            ]
          },
          "metadata": {
            "tags": [],
            "needs_background": "light"
          }
        }
      ]
    },
    {
      "cell_type": "code",
      "metadata": {
        "id": "N9AxrliM4oig",
        "colab_type": "code",
        "colab": {}
      },
      "source": [
        "# creating another data loader with batch size 1 to get loss seperately for each item\n",
        "train_loader = torch.utils.data.DataLoader(\n",
        "  torchvision.datasets.MNIST('./data/mnist', train=True,\n",
        "                             transform=torchvision.transforms.Compose([\n",
        "                               torchvision.transforms.Resize((28, 28), interpolation=2),\n",
        "                               torchvision.transforms.ToTensor(),\n",
        "                               torchvision.transforms.Normalize(\n",
        "                                 (0.1307,), (0.3081,))\n",
        "                             ])),\n",
        "  batch_size=1, shuffle=False)\n",
        "\n",
        "test_loader = torch.utils.data.DataLoader(\n",
        "  torchvision.datasets.MNIST('./data/mnist', train=False,\n",
        "                             transform=torchvision.transforms.Compose([\n",
        "                               torchvision.transforms.Resize((28, 28), interpolation=2),\n",
        "                               torchvision.transforms.ToTensor(),\n",
        "                               torchvision.transforms.Normalize(\n",
        "                                 (0.1307,), (0.3081,))\n",
        "                             ])),\n",
        "  batch_size=1, shuffle=False)"
      ],
      "execution_count": 0,
      "outputs": []
    },
    {
      "cell_type": "code",
      "metadata": {
        "id": "igQPdFV74oij",
        "colab_type": "code",
        "colab": {}
      },
      "source": [
        "res = np.zeros((70000, 4)) # here will be stored (image index, image loss, predicted label, true label)\n",
        "for i, item in enumerate(train_loader, 0):\n",
        "    # clear_output()\n",
        "    # print('Current: {}'.format(i))\n",
        "    img, labels_true = item\n",
        "    img = img.to(cuda)\n",
        "    labels_true = labels_true.to(cuda)\n",
        "\n",
        "    labels_pred = net(img)\n",
        "    loss = criterion(labels_pred, labels_true)\n",
        "\n",
        "    res[i] = torch.tensor([i, loss.item(), labels_pred.argmax(1).item(), labels_true.item()])\n",
        "\n",
        "for i, item in enumerate(test_loader, 60000):\n",
        "    # clear_output()\n",
        "    # print('Current: {}'.format(i))\n",
        "\n",
        "    img, labels_true = item\n",
        "    img = img.to(cuda)\n",
        "    labels_true = labels_true.to(cuda)\n",
        "\n",
        "    labels_pred = net(img)\n",
        "    loss = criterion(labels_pred, labels_true)\n",
        "\n",
        "    res[i] = torch.tensor([i, loss.item(), labels_pred.argmax().item(), labels_true.item()])"
      ],
      "execution_count": 0,
      "outputs": []
    },
    {
      "cell_type": "code",
      "metadata": {
        "id": "xTaxCZaU4oil",
        "colab_type": "code",
        "colab": {}
      },
      "source": [
        "indxs_worst = res[:, 1].argsort()[-10:][::-1] # indexes of 10 images with the biggest loss\n",
        "worst = res[np.sort(indxs_worst)]"
      ],
      "execution_count": 0,
      "outputs": []
    },
    {
      "cell_type": "code",
      "metadata": {
        "id": "2dvfyEmh4oin",
        "colab_type": "code",
        "colab": {}
      },
      "source": [
        "unique = np.unique(worst[:, 2]) # all unique classes in worst images\n",
        "\n",
        "# here we get 5 pictures with lowest loss in classes where was one or more image with the highest loss\n",
        "# and store indexes of images in dictionary d – {index: class}\n",
        "d = defaultdict(int)\n",
        "for class_ in unique:\n",
        "    class_res = res[res[:, 2] == class_]\n",
        "    class_indxs = class_res[:, 1].argsort()[:5]\n",
        "    indxs = class_res[class_indxs][:, 0]\n",
        "    \n",
        "    for indx in indxs:\n",
        "        d[indx] = class_"
      ],
      "execution_count": 0,
      "outputs": []
    },
    {
      "cell_type": "code",
      "metadata": {
        "id": "3ijVa9kF4oip",
        "colab_type": "code",
        "colab": {}
      },
      "source": [
        "imgs_worst = [] # images with the larges loss will be stored here\n",
        "imgs_best = defaultdict(list) # stores images with lowest loss for particular class – {class: list of 5 images}\n",
        "\n",
        "# in next lines we iterate over dataset and save appropriate images\n",
        "for i, item in enumerate(train_loader, 0): \n",
        "    # clear_output()\n",
        "    # print('Current: {}'.format(i))\n",
        "    if i in indxs_worst:\n",
        "        imgs_worst.append(item[0])\n",
        "\n",
        "    if i in d.keys():\n",
        "        imgs_best[d[i]].append(item[0])\n",
        "        \n",
        "for i, item in enumerate(test_loader, 60000):\n",
        "    # clear_output()\n",
        "    # print('Current: {}'.format(i))\n",
        "    if i in indxs_worst:\n",
        "        imgs_worst.append(item[0])\n",
        "\n",
        "    if i in d.keys():\n",
        "        imgs_best[d[i]].append(item[0])"
      ],
      "execution_count": 0,
      "outputs": []
    },
    {
      "cell_type": "code",
      "metadata": {
        "id": "gUCUlnZI4oir",
        "colab_type": "code",
        "outputId": "25f002e0-27fa-4067-bfaa-82d3f2973697",
        "colab": {
          "base_uri": "https://localhost:8080/",
          "height": 616
        }
      },
      "source": [
        "# visualisation of worst images\n",
        "f, ax = plt.subplots(2, 5, figsize=(20, 10))\n",
        "for i in range(10):\n",
        "    ax[i//5, i%5].imshow(imgs_worst[i].reshape((28, 28)), cmap='gray')\n",
        "    ax[i//5, i%5].axis('off')\n",
        "    ax[i//5, i%5].set_title('loss: {}, \\npredicted: {}, \\ntrue: {}'.format(*worst[i, 1:]))\n",
        "    \n",
        "plt.tight_layout()\n",
        "f.savefig('worst.png')"
      ],
      "execution_count": 0,
      "outputs": [
        {
          "output_type": "display_data",
          "data": {
            "image/png": "[encoded data removed]",
            "text/plain": [
              "<Figure size 1440x720 with 10 Axes>"
            ]
          },
          "metadata": {
            "tags": [],
            "needs_background": "light"
          }
        }
      ]
    },
    {
      "cell_type": "code",
      "metadata": {
        "id": "UQiM8OyY4oiu",
        "colab_type": "code",
        "outputId": "f4ca4d0c-7b43-42c3-b15d-e5e9cd7a4a5e",
        "colab": {
          "base_uri": "https://localhost:8080/",
          "height": 1000
        }
      },
      "source": [
        "f, ax = plt.subplots(unique.shape[0], 5, figsize=(11.25, 15))\n",
        "for i, class_ in enumerate(unique):\n",
        "    for j, img in enumerate(imgs_best[class_]):\n",
        "        ax[i, j].imshow(img.reshape((28, 28)), cmap='gray')\n",
        "        ax[i, j].axis('off')\n",
        "\n",
        "plt.tight_layout(pad=5.5, w_pad=0.2, h_pad=0.1)\n",
        "fig = plt.gcf();\n",
        "fig.suptitle(\"Best examples in classes\", fontsize=28);\n",
        "f.savefig('best.png')"
      ],
      "execution_count": 0,
      "outputs": [
        {
          "output_type": "display_data",
          "data": {
            "image/png": "[encoded data removed]",
            "text/plain": [
              "<Figure size 810x1080 with 30 Axes>"
            ]
          },
          "metadata": {
            "tags": [],
            "needs_background": "light"
          }
        }
      ]
    },
    {
      "cell_type": "markdown",
      "metadata": {
        "id": "EX6XQMWj4oiw",
        "colab_type": "text"
      },
      "source": [
        "------"
      ]
    }
  ]
}