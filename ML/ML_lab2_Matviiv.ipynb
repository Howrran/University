{
 "cells": [
  {
   "cell_type": "code",
   "execution_count": 411,
   "metadata": {
    "colab": {
     "base_uri": "https://localhost:8080/",
     "height": 399
    },
    "colab_type": "code",
    "id": "5VIf33ntcNir",
    "outputId": "de460f62-bddf-4735-a80d-cc9c3add2a93"
   },
   "outputs": [],
   "source": [
    "import torch\n",
    "import matplotlib.pyplot as plt\n",
    "import seaborn as sns\n",
    "import numpy as np\n",
    "\n",
    "from sklearn.decomposition import PCA"
   ]
  },
  {
   "cell_type": "code",
   "execution_count": 412,
   "metadata": {},
   "outputs": [],
   "source": [
    "# find average value without nan\n",
    "def get_average(array):\n",
    "    sum1 = 0\n",
    "    elements = 0\n",
    "    for i in array:\n",
    "        if not np.isnan(i):\n",
    "            sum1 += i\n",
    "            elements += 1\n",
    "    \n",
    "    return sum1/elements\n",
    "\n",
    "# replace nan by average value\n",
    "def replace_nan_by_average(array, average_number):\n",
    "    for en, i in enumerate(array):\n",
    "        if np.isnan(i):\n",
    "            array[en] = average_number\n",
    "            \n",
    "    return array\n",
    "\n",
    "# draw vector :)\n",
    "def draw_vector(v0, v1, ax=None):\n",
    "    ax = ax or plt.gca()\n",
    "    arrowprops=dict(\n",
    "                    linewidth=2,\n",
    "                    shrinkA=0, shrinkB=0)\n",
    "    ax.annotate('', v1, v0, arrowprops=arrowprops)\n",
    "    \n"
   ]
  },
  {
   "cell_type": "markdown",
   "metadata": {},
   "source": [
    "\n",
    "# DATA PREPARATION\n"
   ]
  },
  {
   "cell_type": "code",
   "execution_count": 413,
   "metadata": {},
   "outputs": [
    {
     "name": "stderr",
     "output_type": "stream",
     "text": [
      "D:\\Program Files\\Anaconda\\lib\\site-packages\\ipykernel_launcher.py:16: SettingWithCopyWarning: \n",
      "A value is trying to be set on a copy of a slice from a DataFrame\n",
      "\n",
      "See the caveats in the documentation: http://pandas.pydata.org/pandas-docs/stable/user_guide/indexing.html#returning-a-view-versus-a-copy\n",
      "  app.launch_new_instance()\n"
     ]
    }
   ],
   "source": [
    "# load data\n",
    "tit = sns.load_dataset(\"titanic\")\n",
    "age = tit['age']\n",
    "fare = tit['fare']\n",
    "# replace nan\n",
    "age_avg = get_average(age)\n",
    "age = replace_nan_by_average(age, age_avg)\n",
    "\n",
    "fare_avg = get_average(fare)\n",
    "fare = replace_nan_by_average(fare, fare_avg)\n",
    "\n",
    "# prepare data for PCA function\n",
    "X = [[x,y] for x, y in zip(age, fare)]\n",
    "X = np.array(X)\n",
    "\n",
    "#\n",
    "#\n",
    "# Never mind the warning\n",
    "#\n",
    "#"
   ]
  },
  {
   "cell_type": "code",
   "execution_count": 414,
   "metadata": {
    "colab": {
     "base_uri": "https://localhost:8080/",
     "height": 286
    },
    "colab_type": "code",
    "id": "FRh75EwHaiZn",
    "outputId": "6fe34789-314e-473d-a416-d4c0f4eec8bb"
   },
   "outputs": [
    {
     "data": {
      "text/plain": [
       "<matplotlib.collections.PathCollection at 0x17256e72e48>"
      ]
     },
     "execution_count": 414,
     "metadata": {},
     "output_type": "execute_result"
    },
    {
     "data": {
      "image/png": "[encoded data removed]",
      "text/plain": [
       "<Figure size 432x288 with 1 Axes>"
      ]
     },
     "metadata": {},
     "output_type": "display_data"
    }
   ],
   "source": [
    "#plot our data\n",
    "plt.scatter(X[:, 0], X[:, 1])"
   ]
  },
  {
   "cell_type": "markdown",
   "metadata": {},
   "source": [
    "\n",
    "# PCA – principal component analysis\n"
   ]
  },
  {
   "cell_type": "markdown",
   "metadata": {},
   "source": [
    "\n",
    "#  Using sklearn PCA function\n"
   ]
  },
  {
   "cell_type": "code",
   "execution_count": 415,
   "metadata": {
    "colab": {
     "base_uri": "https://localhost:8080/",
     "height": 52
    },
    "colab_type": "code",
    "id": "EmJYjuYVa1Gd",
    "outputId": "23ad2820-3566-4561-ae96-a0dbbef7a36d"
   },
   "outputs": [
    {
     "data": {
      "text/plain": [
       "PCA(copy=True, iterated_power='auto', n_components=2, random_state=None,\n",
       "    svd_solver='auto', tol=0.0, whiten=False)"
      ]
     },
     "execution_count": 415,
     "metadata": {},
     "output_type": "execute_result"
    }
   ],
   "source": [
    "# use sklearn PCA function\n",
    "pca = PCA(n_components=2)\n",
    "pca.fit(X)"
   ]
  },
  {
   "cell_type": "code",
   "execution_count": 416,
   "metadata": {
    "colab": {
     "base_uri": "https://localhost:8080/",
     "height": 52
    },
    "colab_type": "code",
    "id": "3q8PuRz9a7GU",
    "outputId": "3283bb76-cda4-4ce5-d83d-b887c61164a9"
   },
   "outputs": [
    {
     "name": "stdout",
     "output_type": "stream",
     "text": [
      "[[ 0.02569292  0.99966988]\n",
      " [ 0.99966988 -0.02569292]]\n",
      "\n",
      "[2470.95739761  167.53184807]\n"
     ]
    }
   ],
   "source": [
    "# pca.components_ is the set of all eigenvectors\n",
    "# власні значення\n",
    "print(pca.components_)\n",
    "print()\n",
    "print(pca.explained_variance_)"
   ]
  },
  {
   "cell_type": "code",
   "execution_count": 417,
   "metadata": {
    "colab": {
     "base_uri": "https://localhost:8080/",
     "height": 328
    },
    "colab_type": "code",
    "id": "HALiUirvbDJj",
    "outputId": "fac5f8b8-aac2-419e-d600-cacaadf1a0b8"
   },
   "outputs": [
    {
     "data": {
      "image/png": "[encoded data removed]",
      "text/plain": [
       "<Figure size 432x288 with 1 Axes>"
      ]
     },
     "metadata": {},
     "output_type": "display_data"
    }
   ],
   "source": [
    "# Visualize PCA using sklearn\n",
    "\n",
    "# plot data\n",
    "plt.scatter(X[:, 0], X[:, 1], alpha=0.2)\n",
    "for length, vector in zip(pca.explained_variance_, pca.components_):\n",
    "    v = vector * 3 * np.sqrt(length)\n",
    "    draw_vector(pca.mean_, pca.mean_ + v)\n",
    "plt.axis('equal');"
   ]
  },
  {
   "cell_type": "markdown",
   "metadata": {},
   "source": [
    "\n",
    "# Using My PCA function written using pytorch\n"
   ]
  },
  {
   "cell_type": "code",
   "execution_count": 418,
   "metadata": {
    "colab": {},
    "colab_type": "code",
    "id": "gpw1uaSx33ps"
   },
   "outputs": [],
   "source": [
    "def my_PCA(X, k, center=True):\n",
    "  n = X.size()[0]\n",
    "  ones = torch.ones(n).view([n,1])\n",
    "  # 1/n tensor\n",
    "  h = ((1/n) * torch.mm(ones, ones.t())) if center  else torch.zeros(n*n).view([n,n])\n",
    "  # Віднімаю від діагональної матрці з діагональними елементами рівними 1 матрицю h\n",
    "  H = torch.eye(n) - h\n",
    "  # множення матриць H і X\n",
    "  X_center =  torch.mm(H.double(), X.double())\n",
    "  # Сингулярний розклад матриці за допомогою метода svd\n",
    "  u, s, v = torch.svd(X_center) \n",
    "  # Транспонування матриці v і це є наші компоненти\n",
    "  components  = v[:k].t()\n",
    "  # Поелементне піднесення до квадрату матриці s після чого діль елементи кінцевої матриці на (n-1)\n",
    "  explained_variance = torch.mul(s[:k], s[:k])/(n-1)\n",
    "  return {'components':components,     \n",
    "    'explained_variance':explained_variance }"
   ]
  },
  {
   "cell_type": "code",
   "execution_count": 419,
   "metadata": {
    "colab": {
     "base_uri": "https://localhost:8080/",
     "height": 70
    },
    "colab_type": "code",
    "id": "59Ibu8cEGyGr",
    "outputId": "8db64832-3195-495f-c6a0-af88ae87e5a6"
   },
   "outputs": [
    {
     "data": {
      "text/plain": [
       "{'components': tensor([[-0.0264, -0.9997],\n",
       "         [-0.9997,  0.0264]], dtype=torch.float64),\n",
       " 'explained_variance': tensor([2472.0685,  167.7506], dtype=torch.float64)}"
      ]
     },
     "execution_count": 419,
     "metadata": {},
     "output_type": "execute_result"
    }
   ],
   "source": [
    "my_pca = my_PCA(torch.IntTensor(X), 2)\n",
    "my_pca"
   ]
  },
  {
   "cell_type": "code",
   "execution_count": 420,
   "metadata": {
    "colab": {
     "base_uri": "https://localhost:8080/",
     "height": 328
    },
    "colab_type": "code",
    "id": "tPdcdxApRlbM",
    "outputId": "50fd9c51-fa0b-4ecc-9f05-d954ccb76464"
   },
   "outputs": [
    {
     "data": {
      "image/png": "[encoded data removed]",
      "text/plain": [
       "<Figure size 432x288 with 1 Axes>"
      ]
     },
     "metadata": {},
     "output_type": "display_data"
    }
   ],
   "source": [
    "# visualize PCA using pytorch\n",
    "plt.scatter(X[:, 0], X[:, 1], alpha=0.2)\n",
    "for length, vector in zip(my_pca['explained_variance'], my_pca['components']):\n",
    "    v = vector * 3 * np.sqrt(length)\n",
    "    draw_vector(pca.mean_, pca.mean_ + v.data.numpy())\n",
    "plt.axis('equal');"
   ]
  },
  {
   "cell_type": "markdown",
   "metadata": {},
   "source": [
    "# Завдання №2  ЗНЕШУМЛЕННЯ\n"
   ]
  },
  {
   "cell_type": "code",
   "execution_count": 421,
   "metadata": {
    "colab": {
     "base_uri": "https://localhost:8080/",
     "height": 286
    },
    "colab_type": "code",
    "id": "oJiQp5NNO75E",
    "outputId": "2f55b2ab-ef61-4f43-da8e-e9411437e18c"
   },
   "outputs": [
    {
     "data": {
      "text/plain": [
       "<matplotlib.collections.PathCollection at 0x17258979c48>"
      ]
     },
     "execution_count": 421,
     "metadata": {},
     "output_type": "execute_result"
    },
    {
     "data": {
      "image/png": "[encoded data removed]",
      "text/plain": [
       "<Figure size 432x288 with 1 Axes>"
      ]
     },
     "metadata": {},
     "output_type": "display_data"
    }
   ],
   "source": [
    "plt.scatter(X[:, 0], X[:, 1])"
   ]
  },
  {
   "cell_type": "markdown",
   "metadata": {},
   "source": [
    "## Зашумлення"
   ]
  },
  {
   "cell_type": "code",
   "execution_count": 402,
   "metadata": {
    "colab": {
     "base_uri": "https://localhost:8080/",
     "height": 286
    },
    "colab_type": "code",
    "id": "UtKvPyo1NSJ-",
    "outputId": "a47db582-f5dd-4c4b-db82-53aefbb49636"
   },
   "outputs": [
    {
     "data": {
      "text/plain": [
       "<matplotlib.collections.PathCollection at 0x17256a80788>"
      ]
     },
     "execution_count": 402,
     "metadata": {},
     "output_type": "execute_result"
    },
    {
     "data": {
      "image/png": "[encoded data removed]",
      "text/plain": [
       "<Figure size 432x288 with 1 Axes>"
      ]
     },
     "metadata": {},
     "output_type": "display_data"
    }
   ],
   "source": [
    "np.random.seed(42)\n",
    "noisy = X\n",
    "noisy[:, 0] = np.random.normal(X[:, 0], 40)\n",
    "noisy[:, 1] = np.random.normal(X[:, 1], 40)\n",
    "plt.scatter(noisy[:, 0], noisy[:, 1])"
   ]
  },
  {
   "cell_type": "code",
   "execution_count": 403,
   "metadata": {
    "colab": {
     "base_uri": "https://localhost:8080/",
     "height": 35
    },
    "colab_type": "code",
    "id": "vH8-kMY3VkEa",
    "outputId": "18613403-b391-4b20-fe0c-682384af2fbb"
   },
   "outputs": [
    {
     "data": {
      "text/plain": [
       "1"
      ]
     },
     "execution_count": 403,
     "metadata": {},
     "output_type": "execute_result"
    }
   ],
   "source": [
    "pca = PCA(0.50).fit(noisy)\n",
    "pca.n_components_"
   ]
  },
  {
   "cell_type": "markdown",
   "metadata": {},
   "source": [
    "## Після Знешумлення"
   ]
  },
  {
   "cell_type": "code",
   "execution_count": 404,
   "metadata": {
    "colab": {
     "base_uri": "https://localhost:8080/",
     "height": 286
    },
    "colab_type": "code",
    "id": "21uCv_wwaGJR",
    "outputId": "08667db9-c530-46b2-d209-f38b6d4bde5b"
   },
   "outputs": [
    {
     "data": {
      "text/plain": [
       "<matplotlib.collections.PathCollection at 0x17251a69408>"
      ]
     },
     "execution_count": 404,
     "metadata": {},
     "output_type": "execute_result"
    },
    {
     "data": {
      "image/png": "[encoded data removed]",
      "text/plain": [
       "<Figure size 432x288 with 1 Axes>"
      ]
     },
     "metadata": {},
     "output_type": "display_data"
    }
   ],
   "source": [
    "components = pca.transform(noisy)\n",
    "filtered = pca.inverse_transform(components)\n",
    "plt.scatter(filtered[:, 0], filtered[:, 1])"
   ]
  },
  {
   "cell_type": "code",
   "execution_count": null,
   "metadata": {},
   "outputs": [],
   "source": []
  }
 ],
 "metadata": {
  "colab": {
   "name": "ML_lab2",
   "provenance": []
  },
  "kernelspec": {
   "display_name": "Python 3",
   "language": "python",
   "name": "python3"
  },
  "language_info": {
   "codemirror_mode": {
    "name": "ipython",
    "version": 3
   },
   "file_extension": ".py",
   "mimetype": "text/x-python",
   "name": "python",
   "nbconvert_exporter": "python",
   "pygments_lexer": "ipython3",
   "version": "3.7.4"
  }
 },
 "nbformat": 4,
 "nbformat_minor": 1
}
